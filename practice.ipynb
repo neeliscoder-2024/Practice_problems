{
  "nbformat": 4,
  "nbformat_minor": 0,
  "metadata": {
    "colab": {
      "provenance": []
    },
    "kernelspec": {
      "name": "python3",
      "display_name": "Python 3"
    },
    "language_info": {
      "name": "python"
    }
  },
  "cells": [
    {
      "cell_type": "markdown",
      "source": [
        "Complete the solution so that it returns true if the first argument(string) passed in ends with the 2nd argument (also a string).\n",
        "\n",
        "Examples:\n",
        "\n",
        "solution('abc', 'bc') # returns true\n",
        "\n",
        "solution('abc', 'd') # returns false"
      ],
      "metadata": {
        "id": "nWdJaAHNo-6J"
      }
    },
    {
      "cell_type": "code",
      "execution_count": null,
      "metadata": {
        "colab": {
          "base_uri": "https://localhost:8080/"
        },
        "id": "PohXgQFkeNCb",
        "outputId": "d1659ca3-23c2-490b-bd97-d519f53e3bf6"
      },
      "outputs": [
        {
          "output_type": "stream",
          "name": "stdout",
          "text": [
            "'abc'.endswith('bc'):True\n",
            "'abc'.endswith('d'): False\n"
          ]
        }
      ],
      "source": [
        "def solution(text, ending):\n",
        "  return text.endswith(ending)\n",
        "fixed_tests_true = (('abc','bc'),)\n",
        "fixed_tests_false = (('abc','d'),)\n",
        "for t, e in fixed_tests_true:\n",
        "  print(f'{t!r}.endswith({e!r}):{solution(t,e)}')\n",
        "for t, e in fixed_tests_false:\n",
        "  print(f'{t!r}.endswith({e!r}): {solution(t,e)}')"
      ]
    },
    {
      "cell_type": "markdown",
      "source": [
        "Create a function that takes a list of non-negative integers and strings and returns a new list with the strings filtered out.\n",
        "\n",
        "Examples:\n",
        "\n",
        "filter_list([1,2,'a','b']) == [1,2]\n",
        "\n",
        "filter_list([1,'a','b',0,15]) == [1,0,15]\n",
        "\n",
        "filter_list([1,2,'aasf','1','123',123]) == [1,2,123]"
      ],
      "metadata": {
        "id": "mejP7pCesOM1"
      }
    },
    {
      "cell_type": "markdown",
      "source": [
        "Without using filter fuction"
      ],
      "metadata": {
        "id": "hsXVfUNr1INm"
      }
    },
    {
      "cell_type": "code",
      "source": [
        "filter_list = ([1,2,'a','b'],[1,'a','b',0,15],[1,2,'aasf','1','123',123])\n",
        "for sublist in filter_list:\n",
        "  words = [x for x in sublist if type(x) == int]\n",
        "  print(sublist)\n",
        "  print(words)"
      ],
      "metadata": {
        "colab": {
          "base_uri": "https://localhost:8080/"
        },
        "id": "fENXtvpOi3Zx",
        "outputId": "475e8107-c141-4744-c993-b7a385f6f2e4"
      },
      "execution_count": null,
      "outputs": [
        {
          "output_type": "stream",
          "name": "stdout",
          "text": [
            "[1, 2, 'a', 'b']\n",
            "[1, 2]\n",
            "[1, 'a', 'b', 0, 15]\n",
            "[1, 0, 15]\n",
            "[1, 2, 'aasf', '1', '123', 123]\n",
            "[1, 2, 123]\n"
          ]
        }
      ]
    },
    {
      "cell_type": "markdown",
      "source": [
        "Filter out all strings inside the sublist"
      ],
      "metadata": {
        "id": "K2RUeLke3kyN"
      }
    },
    {
      "cell_type": "code",
      "source": [
        "filter_list = ([1,2,'a','b'],[1,'a','b',0,15],[1,2,'aasf','1','123',123])\n",
        "words_filter = [[word for word in words if not isinstance(word,str)] for words in filter_list]\n",
        "print(words)\n",
        "print(words_filter)"
      ],
      "metadata": {
        "colab": {
          "base_uri": "https://localhost:8080/"
        },
        "id": "fSILPBSRx1eT",
        "outputId": "5a0f3bec-20b2-47c3-fdb1-3f95de6ecc6e"
      },
      "execution_count": null,
      "outputs": [
        {
          "output_type": "stream",
          "name": "stdout",
          "text": [
            "[1, 2, 123]\n",
            "[[1, 2], [1, 0, 15], [1, 2, 123]]\n"
          ]
        }
      ]
    },
    {
      "cell_type": "markdown",
      "source": [
        "Binary addition"
      ],
      "metadata": {
        "id": "4tEJfLL0Gzye"
      }
    },
    {
      "cell_type": "code",
      "source": [
        "def add_binary(a,b):\n",
        "  return bin(a+b)[2::]\n",
        "print(add_binary(0,1))\n",
        "print(add_binary(1,1))\n",
        "print(add_binary(2,2))\n",
        "print(add_binary(5,0))"
      ],
      "metadata": {
        "colab": {
          "base_uri": "https://localhost:8080/"
        },
        "id": "7TUUGFk41tUP",
        "outputId": "80e82f7f-b581-42b9-97de-0bc07db2bfc7"
      },
      "execution_count": null,
      "outputs": [
        {
          "output_type": "stream",
          "name": "stdout",
          "text": [
            "1\n",
            "10\n",
            "100\n",
            "101\n"
          ]
        }
      ]
    },
    {
      "cell_type": "code",
      "source": [
        "def sum_of_addition(a,b):\n",
        "  return a+b\n",
        "print(sum_of_addition(1,1))"
      ],
      "metadata": {
        "id": "wUJyrSZvHHMk",
        "colab": {
          "base_uri": "https://localhost:8080/"
        },
        "outputId": "d4c09735-c802-478f-909f-d8da1dfdcb96"
      },
      "execution_count": null,
      "outputs": [
        {
          "output_type": "stream",
          "name": "stdout",
          "text": [
            "2\n"
          ]
        }
      ]
    },
    {
      "cell_type": "code",
      "source": [
        "def sum_of_sub(a,b):\n",
        "  return a-b\n",
        "print(sum_of_sub(1,1))"
      ],
      "metadata": {
        "colab": {
          "base_uri": "https://localhost:8080/"
        },
        "id": "dDYidk6RUhgE",
        "outputId": "74ad17b9-0d18-4b0d-8b93-1efb73f18dc5"
      },
      "execution_count": null,
      "outputs": [
        {
          "output_type": "stream",
          "name": "stdout",
          "text": [
            "0\n"
          ]
        }
      ]
    },
    {
      "cell_type": "code",
      "source": [
        "def sum_of_moduls(a,b):\n",
        "  return a%b\n",
        "print(sum_of_moduls(1,1))"
      ],
      "metadata": {
        "colab": {
          "base_uri": "https://localhost:8080/"
        },
        "id": "IPv9hbLFVmLR",
        "outputId": "8d70d651-95c9-4c08-eb9f-ffb132b6f920"
      },
      "execution_count": null,
      "outputs": [
        {
          "output_type": "stream",
          "name": "stdout",
          "text": [
            "0\n"
          ]
        }
      ]
    },
    {
      "cell_type": "code",
      "source": [
        "def sum_of_floordivision(a,b):\n",
        "  return a//b\n",
        "print(sum_of_floordivision(1,1))"
      ],
      "metadata": {
        "colab": {
          "base_uri": "https://localhost:8080/"
        },
        "id": "Vgs6eYx4VpmA",
        "outputId": "25b35beb-5068-47fa-e57f-44720b5caaa2"
      },
      "execution_count": null,
      "outputs": [
        {
          "output_type": "stream",
          "name": "stdout",
          "text": [
            "1\n"
          ]
        }
      ]
    },
    {
      "cell_type": "code",
      "source": [
        "def sum_of_leftshift(a,b):\n",
        "  return a>>b\n",
        "print(sum_of_leftshift(1,1))"
      ],
      "metadata": {
        "colab": {
          "base_uri": "https://localhost:8080/"
        },
        "id": "K8tbCsU1VtfG",
        "outputId": "fa561040-4b49-47ca-de6c-92ea71a5e6ea"
      },
      "execution_count": null,
      "outputs": [
        {
          "output_type": "stream",
          "name": "stdout",
          "text": [
            "0\n"
          ]
        }
      ]
    },
    {
      "cell_type": "code",
      "source": [
        "def sum_of_rightshift(a,b):\n",
        "  return a<<b\n",
        "print(sum_of_rightshift(1,1))"
      ],
      "metadata": {
        "colab": {
          "base_uri": "https://localhost:8080/"
        },
        "id": "aBeTwCUyV9n7",
        "outputId": "7563d345-1787-4003-c330-344be115970b"
      },
      "execution_count": null,
      "outputs": [
        {
          "output_type": "stream",
          "name": "stdout",
          "text": [
            "2\n"
          ]
        }
      ]
    },
    {
      "cell_type": "code",
      "source": [
        "def even_odd(n):\n",
        "    if n % 2 == 0:\n",
        "      print(f'Even number')\n",
        "    else:\n",
        "      print(f'Odd number')\n",
        "even_odd(7)"
      ],
      "metadata": {
        "colab": {
          "base_uri": "https://localhost:8080/"
        },
        "id": "iSQqzUFEWBUG",
        "outputId": "9087e5e1-f261-4ddc-95f1-0a9edd1d2657"
      },
      "execution_count": null,
      "outputs": [
        {
          "output_type": "stream",
          "name": "stdout",
          "text": [
            "Odd number\n"
          ]
        }
      ]
    },
    {
      "cell_type": "code",
      "source": [
        "def even_odd(numbers):\n",
        "  for n in numbers:\n",
        "    if n % 2 == 0:\n",
        "      print(f'{n}even number')\n",
        "    else:\n",
        "      print(f'{n}odd number')\n",
        "even_odd([7,12,15])"
      ],
      "metadata": {
        "colab": {
          "base_uri": "https://localhost:8080/"
        },
        "id": "1avMoW9cYeJo",
        "outputId": "d1df9cd1-51f1-4c35-a660-8de36bc30be6"
      },
      "execution_count": null,
      "outputs": [
        {
          "output_type": "stream",
          "name": "stdout",
          "text": [
            "7odd number\n",
            "12even number\n",
            "15odd number\n"
          ]
        }
      ]
    },
    {
      "cell_type": "code",
      "source": [],
      "metadata": {
        "id": "ep0d99LoZ787"
      },
      "execution_count": null,
      "outputs": []
    }
  ]
}