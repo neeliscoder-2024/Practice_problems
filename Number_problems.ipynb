{
  "nbformat": 4,
  "nbformat_minor": 0,
  "metadata": {
    "colab": {
      "provenance": []
    },
    "kernelspec": {
      "name": "python3",
      "display_name": "Python 3"
    },
    "language_info": {
      "name": "python"
    }
  },
  "cells": [
    {
      "cell_type": "markdown",
      "source": [
        "Prime number sum\n"
      ],
      "metadata": {
        "id": "ClNBYusmDOVM"
      }
    },
    {
      "cell_type": "code",
      "execution_count": 2,
      "metadata": {
        "colab": {
          "base_uri": "https://localhost:8080/"
        },
        "id": "tbZdsMze_bOm",
        "outputId": "1911c859-0660-4092-a7ef-c10784aea7a2"
      },
      "outputs": [
        {
          "output_type": "stream",
          "name": "stdout",
          "text": [
            "12,2 is prime\n"
          ]
        }
      ],
      "source": [
        "def prime(num):\n",
        "  if num>1:\n",
        "    for i in range(2,num):\n",
        "      if num%i==0:\n",
        "        return False\n",
        "    return True\n",
        "  return False\n",
        "def sum_of_primes(num):\n",
        "  summ=0\n",
        "  while num!=0:\n",
        "    digit=num%10\n",
        "    num//=10\n",
        "    if prime(digit):\n",
        "      summ+=digit\n",
        "  return summ\n",
        "def check_sum_of_primes(num):\n",
        "  sum_of_digits=sum_of_primes(num)\n",
        "  if prime(sum_of_digits):\n",
        "    print(f'{num},{sum_of_digits} is prime')\n",
        "  else:\n",
        "    print(f'{num},{sum_of_digits} not prime')\n",
        "check_sum_of_primes(123)"
      ]
    },
    {
      "cell_type": "markdown",
      "source": [
        "Armstrong number using recursion"
      ],
      "metadata": {
        "id": "fMODX6LDD8vK"
      }
    },
    {
      "cell_type": "code",
      "source": [
        "def isArmstrong(n):\n",
        "    def armstrongHelper(n, dummy, summ):\n",
        "        if n == 0:\n",
        "            return summ == dummy\n",
        "        digit = n % 10\n",
        "        return armstrongHelper(n // 10, dummy, summ + digit**3)\n",
        "    return armstrongHelper(n, n, 0)\n",
        "print(isArmstrong(153))"
      ],
      "metadata": {
        "colab": {
          "base_uri": "https://localhost:8080/"
        },
        "id": "GjmurU__Ehx0",
        "outputId": "c21f74af-ebd3-4151-be28-da9ab381f8b4"
      },
      "execution_count": 3,
      "outputs": [
        {
          "output_type": "stream",
          "name": "stdout",
          "text": [
            "True\n"
          ]
        }
      ]
    },
    {
      "cell_type": "markdown",
      "source": [
        "# 1. Write a program to print the length of the string \"Hello World\".\n",
        "# By using len function"
      ],
      "metadata": {
        "id": "0ZCNTZDREqwJ"
      }
    },
    {
      "cell_type": "code",
      "source": [
        "print(len(\"Hello World\"))"
      ],
      "metadata": {
        "colab": {
          "base_uri": "https://localhost:8080/"
        },
        "id": "jTKVjkVpFpaG",
        "outputId": "5e8512ca-a99d-4413-ee8e-ccfb2386616f"
      },
      "execution_count": 4,
      "outputs": [
        {
          "output_type": "stream",
          "name": "stdout",
          "text": [
            "11\n"
          ]
        }
      ]
    },
    {
      "cell_type": "markdown",
      "source": [
        "# Without using len function"
      ],
      "metadata": {
        "id": "--EA9aQhFxQE"
      }
    },
    {
      "cell_type": "code",
      "source": [
        "s=\"Hello World\"\n",
        "c=0\n",
        "for i in s:\n",
        "  c+=1\n",
        "print(c)"
      ],
      "metadata": {
        "colab": {
          "base_uri": "https://localhost:8080/"
        },
        "id": "MohfpYctF1-D",
        "outputId": "77f2652d-df44-4883-dd85-5df5634d8524"
      },
      "execution_count": 5,
      "outputs": [
        {
          "output_type": "stream",
          "name": "stdout",
          "text": [
            "11\n"
          ]
        }
      ]
    },
    {
      "cell_type": "markdown",
      "source": [
        "# reverse without using slicing, i am using empty sting concatination process"
      ],
      "metadata": {
        "id": "Z-XLXCb_GHfS"
      }
    },
    {
      "cell_type": "code",
      "source": [
        "def reverse(s):\n",
        "  rev=\"\"\n",
        "  for char in s:\n",
        "    rev=char+rev\n",
        "  return rev\n",
        "print(reverse(\"Hello World\"))"
      ],
      "metadata": {
        "colab": {
          "base_uri": "https://localhost:8080/"
        },
        "id": "9gF656RiGIW0",
        "outputId": "9f92b366-33d6-4706-feeb-d0947ee2a3fb"
      },
      "execution_count": 6,
      "outputs": [
        {
          "output_type": "stream",
          "name": "stdout",
          "text": [
            "dlroW olleH\n"
          ]
        }
      ]
    },
    {
      "cell_type": "markdown",
      "source": [
        "#Factorial using recursion."
      ],
      "metadata": {
        "id": "GiKR4Z4ZGihJ"
      }
    },
    {
      "cell_type": "code",
      "source": [
        "def fact(n):\n",
        "  if n==0:\n",
        "    return 1\n",
        "  return n*fact(n-1)\n",
        "print(fact(4))"
      ],
      "metadata": {
        "colab": {
          "base_uri": "https://localhost:8080/"
        },
        "id": "J3Lk0TrhGM8m",
        "outputId": "5ec3105f-af4e-405b-ca01-d08b0d108956"
      },
      "execution_count": 10,
      "outputs": [
        {
          "output_type": "stream",
          "name": "stdout",
          "text": [
            "24\n"
          ]
        }
      ]
    },
    {
      "cell_type": "markdown",
      "source": [
        "Prime number using function"
      ],
      "metadata": {
        "id": "IqLInHUJHFAe"
      }
    },
    {
      "cell_type": "code",
      "source": [
        "def isPrime(n):\n",
        "  if n==1:\n",
        "    return False\n",
        "  for i in range(2,n//2+1):\n",
        "    if n%i==0:\n",
        "      return False\n",
        "  return True\n",
        "print(isPrime(980))"
      ],
      "metadata": {
        "colab": {
          "base_uri": "https://localhost:8080/"
        },
        "id": "4RGPbaBCG8HP",
        "outputId": "fcce71d2-b2fd-4383-eed5-3408c5dc74c6"
      },
      "execution_count": 11,
      "outputs": [
        {
          "output_type": "stream",
          "name": "stdout",
          "text": [
            "False\n"
          ]
        }
      ]
    },
    {
      "cell_type": "markdown",
      "source": [
        "Emirp number"
      ],
      "metadata": {
        "id": "fxKvZhRXK3y2"
      }
    },
    {
      "cell_type": "code",
      "source": [
        "def isPrime(n):\n",
        "    dummy=n\n",
        "    if dummy<=1:\n",
        "        return False\n",
        "    for i in range(2,dummy//2+1):\n",
        "        if dummy%i==0:\n",
        "            return False\n",
        "    else:\n",
        "        return True\n",
        "def reverse_number(n):\n",
        "    rev=0\n",
        "    while n>0:\n",
        "        rem=n%10\n",
        "        rev=rev*10+rem\n",
        "        n//=10\n",
        "    return rev\n",
        "def isEmirp(n):\n",
        "    rev=reverse_number(n)\n",
        "    if isPrime(n) and isPrime(rev) and n!=rev:\n",
        "        return True\n",
        "    else:\n",
        "        return False\n",
        "def emirpNumbers(ll,ul):\n",
        "    for n in range(ll,ul+1):\n",
        "        if isEmirp(n):\n",
        "            print(n)\n",
        "emirpNumbers(10,100)"
      ],
      "metadata": {
        "colab": {
          "base_uri": "https://localhost:8080/"
        },
        "id": "ZPk3JLgXHu5o",
        "outputId": "fbd1220d-cb43-461c-e27b-565ddde68a2f"
      },
      "execution_count": 12,
      "outputs": [
        {
          "output_type": "stream",
          "name": "stdout",
          "text": [
            "13\n",
            "17\n",
            "31\n",
            "37\n",
            "71\n",
            "73\n",
            "79\n",
            "97\n"
          ]
        }
      ]
    },
    {
      "cell_type": "markdown",
      "source": [
        "Palindrome number\n",
        "\n",
        "\n",
        "\n",
        "\n",
        "\n",
        "\n"
      ],
      "metadata": {
        "id": "Y_JX-MZrLy_J"
      }
    },
    {
      "cell_type": "code",
      "source": [
        "def reverse_number(n):\n",
        "    rev = 0\n",
        "    while n > 0:\n",
        "        rev = rev * 10 + n % 10\n",
        "        n //= 10\n",
        "    return rev\n",
        "\n",
        "def isPalindrome(n):\n",
        "    return n == reverse_number(n)\n",
        "\n",
        "def palindromes(lower, upper):\n",
        "    for n in range(lower, upper + 1):\n",
        "        if isPalindrome(n):\n",
        "            print(n)\n",
        "palindromes(10, 100)"
      ],
      "metadata": {
        "colab": {
          "base_uri": "https://localhost:8080/"
        },
        "id": "qc2wLfQCK9R5",
        "outputId": "f1b23279-18a8-4ba4-c338-71fbfbeaa6a9"
      },
      "execution_count": 13,
      "outputs": [
        {
          "output_type": "stream",
          "name": "stdout",
          "text": [
            "11\n",
            "22\n",
            "33\n",
            "44\n",
            "55\n",
            "66\n",
            "77\n",
            "88\n",
            "99\n"
          ]
        }
      ]
    },
    {
      "cell_type": "markdown",
      "source": [
        "Natural number"
      ],
      "metadata": {
        "id": "EZfnFb3aMhbE"
      }
    },
    {
      "cell_type": "code",
      "source": [
        "def natural_number(n):\n",
        "  for i in range(1,n+1):\n",
        "    print(i,end=\"\")\n",
        "  print()\n",
        "natural_number(5)"
      ],
      "metadata": {
        "colab": {
          "base_uri": "https://localhost:8080/"
        },
        "id": "guwyT9ZJL7AX",
        "outputId": "8440a55c-f61a-4fb0-f9df-6792df110e53"
      },
      "execution_count": 14,
      "outputs": [
        {
          "output_type": "stream",
          "name": "stdout",
          "text": [
            "12345\n"
          ]
        }
      ]
    },
    {
      "cell_type": "markdown",
      "source": [
        "Sum of numbers"
      ],
      "metadata": {
        "id": "AGQSmmQUM_so"
      }
    },
    {
      "cell_type": "code",
      "source": [
        "def sum_of_digits(n):\n",
        "  total=0\n",
        "  while n>0:\n",
        "    digit=n%10\n",
        "    total+=digit\n",
        "    n=n//10\n",
        "  print(f\"Sum of digits is:{total}\")\n",
        "sum_of_digits(123)"
      ],
      "metadata": {
        "colab": {
          "base_uri": "https://localhost:8080/"
        },
        "id": "paYpnTaUM19c",
        "outputId": "a24f8c4a-ee64-4b4a-c179-dbfac55fc921"
      },
      "execution_count": 18,
      "outputs": [
        {
          "output_type": "stream",
          "name": "stdout",
          "text": [
            "Sum of digits is:6\n"
          ]
        }
      ]
    },
    {
      "cell_type": "markdown",
      "source": [
        "Sum of multiple number using string"
      ],
      "metadata": {
        "id": "LqTC06i6OQdO"
      }
    },
    {
      "cell_type": "code",
      "source": [
        "def sum_individual_digits(text):\n",
        "    total = 0\n",
        "    for ch in text:\n",
        "        if ch.isdigit():\n",
        "            total += int(ch)\n",
        "    return total\n",
        "input_str = \"123\"\n",
        "print(sum_individual_digits(input_str))"
      ],
      "metadata": {
        "colab": {
          "base_uri": "https://localhost:8080/"
        },
        "id": "PjyGxnSpNhAV",
        "outputId": "1807530c-fb7a-461e-e285-bbf4d4c6d98d"
      },
      "execution_count": 21,
      "outputs": [
        {
          "output_type": "stream",
          "name": "stdout",
          "text": [
            "6\n"
          ]
        }
      ]
    },
    {
      "cell_type": "code",
      "source": [],
      "metadata": {
        "id": "NCySZ3egPCX4"
      },
      "execution_count": null,
      "outputs": []
    }
  ]
}